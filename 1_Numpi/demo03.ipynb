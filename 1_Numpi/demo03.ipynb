{
 "cells": [
  {
   "cell_type": "code",
   "execution_count": null,
   "metadata": {},
   "outputs": [],
   "source": [
    "import numpy as np\n",
    "import matplotlib.pyplot as plt"
   ]
  },
  {
   "cell_type": "code",
   "execution_count": null,
   "metadata": {},
   "outputs": [],
   "source": [
    "#Maak een 3D numpy array met 18 kolommen, 18 rijen en 3 lagen met de waarden 0\n",
    "\n",
    "mijn_Afbeelding = np.zeros((18,18,3), dtype=np.uint8)\n",
    "mijn_Afbeelding[0:6, 6:12, 0] = 255\n",
    "mijn_Afbeelding[0:6, 6:12, 1] = 255\n",
    "mijn_Afbeelding[0:6, 6:12, 2] = 255\n",
    "\n",
    "mijn_Afbeelding[6:12, 0:6, 0] = 255\n",
    "mijn_Afbeelding[6:12, 6:12, 1] = 255\n",
    "mijn_Afbeelding[6:12, 12:18, 2] = 255\n",
    "\n",
    "\n",
    "mijn_Afbeelding[12:18, 0:6, :] = [255,255,255]\n",
    "mijn_Afbeelding[12:18, 12:18, :] = [255,255,255]\n",
    "print(mijn_Afbeelding)\n",
    "plt.imshow(mijn_Afbeelding)"
   ]
  },
  {
   "cell_type": "code",
   "execution_count": null,
   "metadata": {},
   "outputs": [],
   "source": []
  }
 ],
 "metadata": {
  "kernelspec": {
   "display_name": ".venv",
   "language": "python",
   "name": "python3"
  },
  "language_info": {
   "codemirror_mode": {
    "name": "ipython",
    "version": 3
   },
   "file_extension": ".py",
   "mimetype": "text/x-python",
   "name": "python",
   "nbconvert_exporter": "python",
   "pygments_lexer": "ipython3",
   "version": "3.11.2"
  }
 },
 "nbformat": 4,
 "nbformat_minor": 2
}
