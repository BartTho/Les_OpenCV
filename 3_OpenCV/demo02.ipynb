{
 "cells": [
  {
   "cell_type": "code",
   "execution_count": null,
   "metadata": {},
   "outputs": [],
   "source": [
    "#%pip install opencv-python\n",
    "#%pip install matplotlib \n",
    "#%pip install numpy"
   ]
  },
  {
   "cell_type": "code",
   "execution_count": null,
   "metadata": {},
   "outputs": [],
   "source": [
    "import cv2\n",
    "import numpy as np\n",
    "import matplotlib.pyplot as plt"
   ]
  },
  {
   "cell_type": "code",
   "execution_count": null,
   "metadata": {},
   "outputs": [],
   "source": [
    "#Maak een 3D numpy array met 18 kolommen, 18 rijen en 3 lagen met de waarden 0\n",
    "\n",
    "mijn_Afbeelding = np.zeros((18,18,3), dtype=np.uint8)\n",
    "mijn_Afbeelding[0:6, 6:12, 0] = 255\n",
    "mijn_Afbeelding[0:6, 6:12, 1] = 255\n",
    "mijn_Afbeelding[0:6, 6:12, 2] = 255\n",
    "\n",
    "mijn_Afbeelding[6:12, 0:6, 0] = 255\n",
    "mijn_Afbeelding[6:12, 6:12, 1] = 255\n",
    "mijn_Afbeelding[6:12, 12:18, 2] = 255\n",
    "\n",
    "\n",
    "mijn_Afbeelding[12:18, 0:6, :] = [255,255,255]\n",
    "mijn_Afbeelding[12:18, 12:18, :] = [255,255,255]\n",
    "print(mijn_Afbeelding)\n",
    "plt.imshow(mijn_Afbeelding)"
   ]
  },
  {
   "cell_type": "code",
   "execution_count": null,
   "metadata": {},
   "outputs": [],
   "source": []
  },
  {
   "cell_type": "markdown",
   "metadata": {},
   "source": [
    "# Resizing Images\n",
    "\n",
    "The function **`resize`** resizes the image `src` down to or up to the specified size. The size and type are derived from the `src`,`dsize`,`fx`, and `fy`.\n",
    "\n",
    "### <font style=\"color:rgb(8,133,37)\">Function Syntax </font>\n",
    "\n",
    "``` python\n",
    "dst = resize( src, dsize[, dst[, fx[, fy[, interpolation]]]] )\n",
    "```\n",
    "\n",
    "`dst`: output image; it has the size dsize (when it is non-zero) or the size computed from src.size(), fx, and fy; the type of dst is the same as of src.\n",
    "\n",
    "The function has **2 required arguments**:\n",
    "    \n",
    "1. `src`:\tinput image\n",
    "\n",
    "2. `dsize`: output image size\n",
    "\n",
    "Optional arguments that are often used include:\n",
    "\n",
    "1. `fx`: Scale factor along the horizontal axis; when it equals 0, it is computed as (??????)?????.?????/???.????\n",
    "\n",
    "2. `fy`: Scale factor along the vertical axis; when it equals 0, it is computed as (??????)?????.??????/???.????\n",
    "\n",
    "The output image has the size `dsize` (when it is non-zero) or the size computed from `src.size()`, `fx`, and `fy`; the type of dst is the same as of src.\n",
    "\n",
    "### <font style=\"color:rgb(8,133,37)\">OpenCV Documentation</font>\n",
    "\n",
    "**`resize()`**: <a href=\"https://docs.opencv.org/4.5.0/da/d54/group__imgproc__transform.html#ga47a974309e9102f5f08231edc7e7529d\" target=\"_blank\">Documentation link</a>"
   ]
  },
  {
   "cell_type": "code",
   "execution_count": null,
   "metadata": {},
   "outputs": [],
   "source": []
  },
  {
   "cell_type": "markdown",
   "metadata": {},
   "source": [
    "# Flipping Images\n",
    "\n",
    "\n",
    "The function **`flip`** flips the array in one of three different ways (row and column indices are 0-based):\n",
    "\n",
    "### <font style=\"color:rgb(8,133,37)\">Function Syntax </font>\n",
    "``` python\n",
    "dst = cv.flip( src, flipCode )\n",
    "```\n",
    "\n",
    "`dst`: output array of the same size and type as src.\n",
    "\n",
    "The function has **2 required arguments**:\n",
    "    \n",
    "1. `src`:\tinput image\n",
    "2. `flipCode`: a flag to specify how to flip the array; 0 means flipping around the x-axis and positive value (for example, 1) means flipping around y-axis. Negative value (for example, -1) means flipping around both axes.\n",
    "\n",
    "\n",
    "### <font style=\"color:rgb(8,133,37)\">OpenCV Documentation</font>\n",
    "\n",
    "**`flip`**: <a href=\"https://docs.opencv.org/4.5.0/d2/de8/group__core__array.html#gaca7be533e3dac7feb70fc60635adf441\" target=\"_blank\">Documentation link</a>"
   ]
  },
  {
   "cell_type": "code",
   "execution_count": null,
   "metadata": {},
   "outputs": [],
   "source": []
  }
 ],
 "metadata": {
  "kernelspec": {
   "display_name": ".venv",
   "language": "python",
   "name": "python3"
  },
  "language_info": {
   "codemirror_mode": {
    "name": "ipython",
    "version": 3
   },
   "file_extension": ".py",
   "mimetype": "text/x-python",
   "name": "python",
   "nbconvert_exporter": "python",
   "pygments_lexer": "ipython3",
   "version": "3.11.2"
  }
 },
 "nbformat": 4,
 "nbformat_minor": 2
}
